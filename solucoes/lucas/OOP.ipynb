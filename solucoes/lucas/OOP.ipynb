{
 "cells": [
  {
   "cell_type": "markdown",
   "metadata": {},
   "source": [
    "## Exercícios Orientação a Objeto \n",
    "#### Modele uma classe que realiza as seguintes operações em um arquivo texto:\n",
    "* Represente um texto como uma lista de Strings\n",
    "* Retorne individualmente cada palavra do texto\n",
    "* Conte a quantidade de ocorrências de cada palavra do texto\n",
    "* Retorne as 10 palavras mais frequentes\n",
    "* Retorne a média e desvio padrão da quantidade de ocorrências\n",
    "* Cadastre StopWords (A classe deve possuir um atributo com uma lista de StopWords)\n",
    "* Retorne um novo arquivo eliminando todas as StopWords do texto\n",
    "* Inclua um método que retorne a distância entre duas palavras\n"
   ]
  },
  {
   "cell_type": "code",
   "execution_count": 1,
   "metadata": {
    "scrolled": true
   },
   "outputs": [
    {
     "data": {
      "text/plain": [
       "['She sells seashells on the seashore',\n",
       " \"The shells that she sells are seashells I'm sure\",\n",
       " 'So if she sells seashells on the seashore',\n",
       " \"I'm sure that the shells are seashore shells\"]"
      ]
     },
     "execution_count": 1,
     "metadata": {},
     "output_type": "execute_result"
    }
   ],
   "source": [
    "import string\n",
    "#import statistics\n",
    "\n",
    "class fileTxt():\n",
    "    \n",
    "    def __init__(self, path):\n",
    "        self.path = path\n",
    "        self.file = open(path, 'r')\n",
    "        self.txt = self.file.readlines()\n",
    "        self.punctuation = list(string.punctuation)\n",
    "\n",
    "    #1. Represente um texto como uma lista de strings.\n",
    "    def stringList(self):\n",
    "        string_list = [line.strip().strip(string.punctuation) for line in self.txt]\n",
    "        return string_list\n",
    "    \n",
    "    #2. Retorne individualmente cada palavra do texto.\n",
    "    def stringSplit(self):\n",
    "        string_list = []\n",
    "        linhas = [i.split() for i in self.txt if i != None]\n",
    "\n",
    "        for linha in linhas:\n",
    "            for word in linha:             \n",
    "                for letter in word:\n",
    "                    if letter in self.punctuation:\n",
    "                        word = word.replace(letter, '')\n",
    "                string_list.append(word)        \n",
    "        return string_list\n",
    "\n",
    "    #3. Conte a quantidade de ocorrências de cada palavra do texto.\n",
    "    def countTxt(self):\n",
    "        string_list = self.stringSplit()\n",
    "        sorted(string_list)\n",
    "        sort_string_list = string_list[:]\n",
    "        temp = []\n",
    "        index = []\n",
    "        dic = {}\n",
    "        lower_string_list = [element.lower() for element in string_list] \n",
    "        compare = [[element for element in string_list if element == word] for word in sort_string_list]\n",
    "        for word in compare:\n",
    "            if word not in temp:\n",
    "                temp.append(word)\n",
    "                index.append(len(word))\n",
    "        for i in range (len(index)):\n",
    "            dic[temp[i][0]] = index[i]   \n",
    "        return dic\n",
    "    \n",
    "    #4. Retorne as 10 palavras mais frequentes do texto.\n",
    "    def top10(self):\n",
    "        dic = list(self.countTxt())\n",
    "        return dic[0:10]\n",
    "    \n",
    "    #5. Retorne a média e desvio padrão da quantidade de ocorrências.\n",
    "    def mediaStandardDeviation(self):\n",
    "        quantity = 0\n",
    "        square = 0\n",
    "        dictionary = self.countTxt()\n",
    "        number_of_sample_observations = len(dictionary.values())\n",
    "        \n",
    "        for i in dictionary.values():\n",
    "            quantity += i    \n",
    "        \n",
    "        media = quantity/number_of_sample_observations\n",
    "        for i in dictionary.values():\n",
    "            square += (i-media)**2\n",
    "        standard_deviation = (square/number_of_sample_observations)**(1/2)\n",
    "        return media, standard_deviation\n",
    "    \n",
    "    #6. Cadastre stopWords tal que a classe possua um atributo com uma lista de StopWords\n",
    "    def stopWords(self):\n",
    "        return\n",
    "    \n",
    "    #7. Retorne um novo arquivo eliminando todas as StopWords do texto.\n",
    "    def stopWordsTxt():\n",
    "        return\n",
    "    \n",
    "    #8. Inclua um m[etodo que retorne a distância entre duas palavras.\n",
    "    def distanceStrings(self, string_a, string_b):\n",
    "        import textdistance\n",
    "        return (textdistance.levenshtein(string_a, string_b))\n",
    "\n",
    "path='/home/cavalcante87/she.txt'\n",
    "txt=fileTxt(path)\n",
    "#txt.stringList()\n",
    "#txt.stringSplit()\n",
    "#txt.countTxt()\n",
    "#txt.top10()\n",
    "#txt.mediaStandardDeviation()\n",
    "#txt.stopWords()\n",
    "#txt.stopWordsTxt()\n",
    "#txt.distanceStrings('she', 'sells')"
   ]
  },
  {
   "cell_type": "code",
   "execution_count": null,
   "metadata": {},
   "outputs": [],
   "source": []
  }
 ],
 "metadata": {
  "kernelspec": {
   "display_name": "Python 3",
   "language": "python",
   "name": "python3"
  },
  "language_info": {
   "codemirror_mode": {
    "name": "ipython",
    "version": 3
   },
   "file_extension": ".py",
   "mimetype": "text/x-python",
   "name": "python",
   "nbconvert_exporter": "python",
   "pygments_lexer": "ipython3",
   "version": "3.7.4"
  }
 },
 "nbformat": 4,
 "nbformat_minor": 2
}
