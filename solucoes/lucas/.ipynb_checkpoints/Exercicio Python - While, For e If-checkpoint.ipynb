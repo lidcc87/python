{
 "cells": [
  {
   "cell_type": "markdown",
   "metadata": {},
   "source": [
    "# *While*, *For* and *If*"
   ]
  },
  {
   "cell_type": "markdown",
   "metadata": {},
   "source": [
    "## 1.\n",
    "Write a function that returns the maximum of two numbers."
   ]
  },
  {
   "cell_type": "code",
   "execution_count": 1,
   "metadata": {},
   "outputs": [
    {
     "name": "stdout",
     "output_type": "stream",
     "text": [
      "5\n"
     ]
    }
   ],
   "source": [
    "def sum(a,b):\n",
    "    c=a+b\n",
    "    return c\n",
    "\n",
    "print(sum(2,3))"
   ]
  },
  {
   "cell_type": "markdown",
   "metadata": {},
   "source": [
    "## 2.\n",
    "Write a function called ```fizz_buzz``` that takes a number.\n",
    "\n",
    "I. If the number is divisible by 3, it should return \"Fizz\".  \n",
    "II. If it is divisible by 5, it should return \"Buzz\".  \n",
    "III. If it is divisible by both 3 and 5, it should return \"FizzBuzz\".  \n",
    "IV. Otherwise, it should return the same number."
   ]
  },
  {
   "cell_type": "code",
   "execution_count": 7,
   "metadata": {},
   "outputs": [
    {
     "name": "stdout",
     "output_type": "stream",
     "text": [
      "Fizz\n"
     ]
    }
   ],
   "source": [
    "number=3\n",
    "def fizz_buzz(number):\n",
    "    if (number % 3 == 0) and (number % 5 == 0):\n",
    "        print(\"FizzBuzz\")\n",
    "    elif (number % 3) == 0:\n",
    "        print(\"Fizz\")\n",
    "    elif (number % 5 == 0):\n",
    "        print(\"Buzz\")\n",
    "    else:\n",
    "        print(number) \n",
    "\n",
    "fizz_buzz(number)"
   ]
  },
  {
   "cell_type": "code",
   "execution_count": 24,
   "metadata": {},
   "outputs": [
    {
     "name": "stdout",
     "output_type": "stream",
     "text": [
      "FizzBuzz\n"
     ]
    }
   ],
   "source": [
    "#Solução de Wana\n",
    "number = 15\n",
    "def fizz_buzz(s):\n",
    "    if (s % 3 == 0) and (s % 5 == 0):\n",
    "        s = \"FizzBuzz\"\n",
    "    elif (s % 3) == 0:\n",
    "        s = \"Fizz\"\n",
    "    elif (s % 5 == 0):\n",
    "        s = \"Buzz\"\n",
    "    else:\n",
    "        pass\n",
    "    return s\n",
    "\n",
    "fb=fizz_buzz(number)\n",
    "print(fb)"
   ]
  },
  {
   "cell_type": "markdown",
   "metadata": {},
   "source": [
    "## 3.\n",
    "Write a function for checking the speed of drivers. This function should have one parameter: speed.\n",
    "\n",
    "I. If speed is less than 70, it should print “Ok”.  \n",
    "II. Otherwise, for every 5km above the speed limit (70), it should give the driver one demerit point and print the total number of demerit points. For example, if the speed is 80, it should print: “Points: 2”.  \n",
    "III. If the driver gets more than 12 points, the function should print: “License suspended”."
   ]
  },
  {
   "cell_type": "code",
   "execution_count": 9,
   "metadata": {},
   "outputs": [
    {
     "name": "stdout",
     "output_type": "stream",
     "text": [
      "License suspended\n"
     ]
    }
   ],
   "source": [
    "speed=130\n",
    "def drivers(speed):\n",
    "    if speed < 75:\n",
    "        print(\"Ok\")\n",
    "    elif speed > 70 and speed < (70+12*5):\n",
    "        dp=int((speed - 70) // 5)\n",
    "        print(\"Points:\", dp)\n",
    "    else:\n",
    "        print(\"License suspended\")\n",
    "\n",
    "drivers(speed)"
   ]
  },
  {
   "cell_type": "markdown",
   "metadata": {},
   "source": [
    "## 4.\n",
    "Write a function called ```showNumbers``` that takes a parameter called ```limit```. It should print all the numbers between 0 and limt with a label to identify the even and odd numbers.  \n",
    "For Example, if the limit is 3, it should print:\n",
    "* 0 EVEN  \n",
    "* 1 ODD  \n",
    "* 2 EVEN  \n",
    "* 3 ODD"
   ]
  },
  {
   "cell_type": "code",
   "execution_count": 12,
   "metadata": {},
   "outputs": [
    {
     "name": "stdout",
     "output_type": "stream",
     "text": [
      "0 EVEN\n",
      "1 ODD\n",
      "2 EVEN\n",
      "3 ODD\n",
      "4 EVEN\n",
      "5 ODD\n",
      "6 EVEN\n",
      "7 ODD\n"
     ]
    }
   ],
   "source": [
    "#1st Solution\n",
    "limit=7\n",
    "def showNumbers(limit):\n",
    "    for i in range(0, limit+1):\n",
    "        if (i % 2 == 0):\n",
    "            print(i, \"EVEN\")\n",
    "        else:\n",
    "            print(i, \"ODD\")\n",
    "    return      \n",
    "\n",
    "showNumbers(limit)"
   ]
  },
  {
   "cell_type": "code",
   "execution_count": 2,
   "metadata": {},
   "outputs": [
    {
     "data": {
      "text/plain": [
       "('EVEN', 'ODD')"
      ]
     },
     "execution_count": 2,
     "metadata": {},
     "output_type": "execute_result"
    }
   ],
   "source": [
    "#2nd Solution\n",
    "limit=7\n",
    "lista=[]\n",
    "def showNumbers(limit):\n",
    "    for i in range(0, limit+1):\n",
    "        if (i % 2 == 0):\n",
    "            lista.append(i)\n",
    "            lista.append(\"EVEN\")\n",
    "        else:\n",
    "            lista.append(i)\n",
    "            lista.append(\"ODD\")\n",
    "    for j in range(0,2*limit):\n",
    "        lista_nova=lista[j], lista[j+2]\n",
    "    return lista_nova  \n",
    "\n",
    "showNumbers(limit)"
   ]
  },
  {
   "cell_type": "markdown",
   "metadata": {},
   "source": [
    "## 5.  \n",
    "Write a function that returns the sum of multiples of 3 and 5 between 0 and `limit` (parameter). For example, if limit is 20, it should return the sum of 3, 5, 6, 9, 10, 12, 15, 18, 20."
   ]
  },
  {
   "cell_type": "code",
   "execution_count": 34,
   "metadata": {},
   "outputs": [
    {
     "name": "stdout",
     "output_type": "stream",
     "text": [
      "Os múltiplos de 3 ou 5 até 11 são: [3, 5, 6, 9, 10]\n",
      "A soma dos múltiplos de 3 ou 5 até o número 11 é: 33\n"
     ]
    }
   ],
   "source": [
    "#Múltiplos de 3 ou 5\n",
    "var = 10\n",
    "\n",
    "def mult(limit):\n",
    "    lista=[]\n",
    "    for i in range(2, limit+1):\n",
    "        if (i % 3 == 0) or (i % 5 == 0):\n",
    "            lista.append(i)\n",
    "            \n",
    "    return lista\n",
    "    \n",
    "print(\"Os múltiplos de 3 ou 5 até\", var+1, \"são:\", mult(var))\n",
    "print(\"A soma dos múltiplos de 3 ou 5 até o número\", var+1, \"é:\", sum(mult(var)))"
   ]
  },
  {
   "cell_type": "code",
   "execution_count": 37,
   "metadata": {},
   "outputs": [
    {
     "name": "stdout",
     "output_type": "stream",
     "text": [
      "Os múltiplos de 15, de 1 até 101 são: [15, 30, 45, 60, 75, 90]\n",
      "A soma dos múltiplos de 3 ou 5 até o número 101 é: 315\n"
     ]
    }
   ],
   "source": [
    "#Múltiplos de 15\n",
    "var = 100\n",
    "\n",
    "def mult(limit):\n",
    "    lista=[]\n",
    "    for i in range(2, limit+1):\n",
    "        if (i % 3 == 0) and (i % 5 == 0):\n",
    "            lista.append(i)\n",
    "            \n",
    "    return lista\n",
    "    \n",
    "print(\"Os múltiplos de 15 até\", var+1, \"são:\", mult(var))\n",
    "print(\"A soma dos múltiplos de 3 ou 5 até o número\", var+1, \"é:\", sum(mult(var)))"
   ]
  },
  {
   "cell_type": "markdown",
   "metadata": {},
   "source": [
    "## 6.\n",
    "Write a function called `show_stars(rows)`. If `rows` is 5, it should print the following:\n",
    "```\n",
    "*\n",
    "**\n",
    "***\n",
    "****\n",
    "*****\n",
    "```"
   ]
  },
  {
   "cell_type": "code",
   "execution_count": 45,
   "metadata": {},
   "outputs": [
    {
     "name": "stdout",
     "output_type": "stream",
     "text": [
      "['*']\n",
      "['*', '*']\n",
      "['*', '*', '*']\n",
      "['*', '*', '*', '*']\n",
      "['*', '*', '*', '*', '*']\n"
     ]
    }
   ],
   "source": [
    "a=5\n",
    "lista=[]\n",
    "\n",
    "def show_stars(rows):\n",
    "    for i in range(0, rows):\n",
    "        lista.append(\"*\")\n",
    "        print(lista)\n",
    "        \n",
    "    return \n",
    "\n",
    "show_stars(a)"
   ]
  },
  {
   "cell_type": "code",
   "execution_count": 49,
   "metadata": {},
   "outputs": [
    {
     "name": "stdout",
     "output_type": "stream",
     "text": [
      "*\n",
      "**\n",
      "***\n",
      "****\n",
      "*****\n",
      "******\n",
      "*******\n",
      "********\n",
      "*********\n",
      "**********\n"
     ]
    }
   ],
   "source": [
    "a=10\n",
    "\n",
    "def show_stars(rows):\n",
    "    for i in range(0, rows):\n",
    "        print((i+1)*\"*\")\n",
    "    return \n",
    "\n",
    "show_stars(a)"
   ]
  },
  {
   "cell_type": "markdown",
   "metadata": {},
   "source": [
    "## 7.\n",
    "Write a function that prints all the prime numbers between 0 and ```limit``` where limit is parameter."
   ]
  },
  {
   "cell_type": "code",
   "execution_count": 7,
   "metadata": {},
   "outputs": [
    {
     "data": {
      "text/plain": [
       "[2, 3, 5, 7, 11]"
      ]
     },
     "execution_count": 7,
     "metadata": {},
     "output_type": "execute_result"
    }
   ],
   "source": [
    "var = 11\n",
    "prime_numbers_list = []\n",
    "def prime_numbers(limit):\n",
    "    for i in range(2, limit+1):\n",
    "        for j in range(2, i):\n",
    "            if (i % j) == 0:\n",
    "                break\n",
    "        else:\n",
    "            prime_numbers_list.append(i)\n",
    "    return prime_numbers_list\n",
    "\n",
    "prime_numbers(var)"
   ]
  },
  {
   "cell_type": "code",
   "execution_count": null,
   "metadata": {},
   "outputs": [],
   "source": []
  }
 ],
 "metadata": {
  "kernelspec": {
   "display_name": "Python 3",
   "language": "python",
   "name": "python3"
  },
  "language_info": {
   "codemirror_mode": {
    "name": "ipython",
    "version": 3
   },
   "file_extension": ".py",
   "mimetype": "text/x-python",
   "name": "python",
   "nbconvert_exporter": "python",
   "pygments_lexer": "ipython3",
   "version": "3.7.4"
  }
 },
 "nbformat": 4,
 "nbformat_minor": 2
}
