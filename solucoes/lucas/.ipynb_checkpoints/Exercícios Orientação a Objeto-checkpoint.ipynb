{
 "cells": [
  {
   "cell_type": "markdown",
   "metadata": {},
   "source": [
    "## Exercícios Orientação a Objeto\n",
    "### Modele uma classe que realiza as seguintes operações em um arquivo texto"
   ]
  },
  {
   "cell_type": "markdown",
   "metadata": {},
   "source": [
    "## Problema 1. \n",
    "Represente um texto como uma lista de Strings."
   ]
  },
  {
   "cell_type": "code",
   "execution_count": 21,
   "metadata": {},
   "outputs": [
    {
     "name": "stdout",
     "output_type": "stream",
     "text": [
      "['She', 'sells', 'seashells', 'on', 'the', 'seashore;', 'The', 'shells', 'that', 'she', 'sells', 'are', 'seashells', \"I'm\", 'sure.', 'So', 'if', 'she', 'sells', 'seashells', 'on', 'the', 'seashore,', \"I'm\", 'sure', 'that', 'the', 'shells', 'are', 'seashore', 'shells.']\n"
     ]
    }
   ],
   "source": [
    "class TxtEmString:\n",
    "    \n",
    "    def __init__(self, arquivo):\n",
    "        self.arquivo = arquivo\n",
    "        \n",
    "    def linhas_da_lista(self):\n",
    "        \n",
    "        lista=[]\n",
    "        \n",
    "        linhas=open(self.arquivo, \"r\").readlines()\n",
    "\n",
    "        for i in linhas:\n",
    "            for j in i.split(\" \"):\n",
    "                lista.append(j.replace(\"\\n\", \"\"))\n",
    "                \n",
    "        return lista\n",
    "    \n",
    "caminho=\"/home/cavalcante87/she.txt\"\n",
    "\n",
    "arquivo = TxtEmString(caminho)\n",
    "print(arquivo.linhas_da_lista())"
   ]
  },
  {
   "cell_type": "code",
   "execution_count": 17,
   "metadata": {},
   "outputs": [
    {
     "data": {
      "text/plain": [
       "['She',\n",
       " 'sells',\n",
       " 'seashells',\n",
       " 'on',\n",
       " 'the',\n",
       " 'seashore;',\n",
       " 'The',\n",
       " 'shells',\n",
       " 'that',\n",
       " 'she',\n",
       " 'sells',\n",
       " 'are',\n",
       " 'seashells',\n",
       " \"I'm\",\n",
       " 'sure.',\n",
       " 'So',\n",
       " 'if',\n",
       " 'she',\n",
       " 'sells',\n",
       " 'seashells',\n",
       " 'on',\n",
       " 'the',\n",
       " 'seashore,',\n",
       " \"I'm\",\n",
       " 'sure',\n",
       " 'that',\n",
       " 'the',\n",
       " 'shells',\n",
       " 'are',\n",
       " 'seashore',\n",
       " 'shells.']"
      ]
     },
     "execution_count": 17,
     "metadata": {},
     "output_type": "execute_result"
    }
   ],
   "source": [
    "class Arquivo:\n",
    "    def __init__(self):\n",
    "        self.lista = []\n",
    "        \n",
    "    def linhas_da_lista(self, caminho):\n",
    "        \n",
    "        linhas=open(caminho, \"r\").readlines()\n",
    "\n",
    "        for i in linhas:\n",
    "            for j in i.split(\" \"):\n",
    "                self.lista.append(j.replace(\"\\n\", \"\"))\n",
    "                \n",
    "        return self.lista\n",
    "    \n",
    "caminho=\"/home/cavalcante87/she.txt\"\n",
    "\n",
    "arquivo = Arquivo()\n",
    "arquivo.linhas_da_lista(caminho)"
   ]
  },
  {
   "cell_type": "markdown",
   "metadata": {},
   "source": [
    "## Problema 2.\n",
    "Retorne individualmente cada palavra do texto.    "
   ]
  },
  {
   "cell_type": "code",
   "execution_count": 2,
   "metadata": {},
   "outputs": [
    {
     "name": "stdout",
     "output_type": "stream",
     "text": [
      "She\n"
     ]
    }
   ],
   "source": [
    "class TxtEmString:\n",
    "    \n",
    "    def __init__(self, arquivo):\n",
    "        self.arquivo = arquivo\n",
    "        \n",
    "    def linhas_da_lista(self):\n",
    "        \n",
    "        lista=[]\n",
    "        \n",
    "        linhas=open(self.arquivo, \"r\").readlines()\n",
    "\n",
    "        for i in linhas:\n",
    "            for j in i.split(\" \"):\n",
    "                lista.append(j.replace(\"\\n\", \"\"))\n",
    "        return lista\n",
    "\n",
    "    def print_lista(self, lista):\n",
    "        \n",
    "        for i in lista:\n",
    "        \n",
    "            return i\n",
    "    \n",
    "caminho=\"/home/cavalcante87/she.txt\"\n",
    "\n",
    "arquivo = TxtEmString(caminho)\n",
    "b = (arquivo.linhas_da_lista())\n",
    "print(arquivo.print_lista(b))"
   ]
  },
  {
   "cell_type": "code",
   "execution_count": 7,
   "metadata": {},
   "outputs": [
    {
     "data": {
      "text/plain": [
       "['She',\n",
       " 'sells',\n",
       " 'seashells',\n",
       " 'on',\n",
       " 'the',\n",
       " 'seashore;',\n",
       " 'The',\n",
       " 'shells',\n",
       " 'that',\n",
       " 'she',\n",
       " 'sells',\n",
       " 'are',\n",
       " 'seashells',\n",
       " \"I'm\",\n",
       " 'sure.',\n",
       " 'So',\n",
       " 'if',\n",
       " 'she',\n",
       " 'sells',\n",
       " 'seashells',\n",
       " 'on',\n",
       " 'the',\n",
       " 'seashore,',\n",
       " \"I'm\",\n",
       " 'sure',\n",
       " 'that',\n",
       " 'the',\n",
       " 'shells',\n",
       " 'are',\n",
       " 'seashore',\n",
       " 'shells.']"
      ]
     },
     "execution_count": 7,
     "metadata": {},
     "output_type": "execute_result"
    }
   ],
   "source": [
    "class Arquivo:\n",
    "    def unica_string(arquivo):\n",
    "        arquivo=open(arquivo, \"r\")\n",
    "        linhas=arquivo.readlines()\n",
    "        lista=[]\n",
    "\n",
    "        for i in linhas:\n",
    "            i.strip('\\n')\n",
    "            for j in i.split():\n",
    "                lista.append(j)\n",
    "            \n",
    "        return lista\n",
    "    \n",
    "    def cada_palavra(lista):\n",
    "        for i in li\n",
    "\n",
    "#class Palavra:\n",
    "#    def palavra_isoladamente(Arquivo):\n",
    "    \n",
    "arquivo=\"/home/cavalcante87/she.txt\"\n",
    "Arquivo.unica_string(arquivo)"
   ]
  },
  {
   "cell_type": "code",
   "execution_count": 15,
   "metadata": {},
   "outputs": [
    {
     "name": "stdout",
     "output_type": "stream",
     "text": [
      "['She', 'sells', 'seashells', 'on', 'the', 'seashore;', 'The', 'shells', 'that', 'she', 'sells', 'are', 'seashells', \"I'm\", 'sure.', 'So', 'if', 'she', 'sells', 'seashells', 'on', 'the', 'seashore,', \"I'm\", 'sure', 'that', 'the', 'shells', 'are', 'seashore', 'shells.']\n"
     ]
    }
   ],
   "source": [
    "def unica_string(arquivo):\n",
    "    arquivo=open(arquivo, \"r\")\n",
    "    linhas=arquivo.readlines()\n",
    "    lista=[]\n",
    "\n",
    "    for i in linhas:\n",
    "        i.strip('\\n')\n",
    "        for j in i.split():\n",
    "            lista.append(j)\n",
    "    \n",
    "    return lista\n",
    "\n",
    "print(lista)"
   ]
  },
  {
   "cell_type": "markdown",
   "metadata": {},
   "source": [
    "## Problema 3.\n",
    "Conte a quantidade de ocorrências de cada palavra do texto."
   ]
  },
  {
   "cell_type": "code",
   "execution_count": 16,
   "metadata": {},
   "outputs": [],
   "source": [
    "class Arquivo:\n",
    "    def unica_string(arquivo):\n",
    "        arquivo=open(arquivo, \"r\")\n",
    "        linhas=arquivo.readlines()\n",
    "        lista=[]\n",
    "\n",
    "        for i in linhas:\n",
    "            i.strip('\\n')\n",
    "            for j in i.split():\n",
    "                lista.append(j)\n",
    "            \n",
    "        return lista\n",
    "    \n",
    "arquivo=\"/home/cavalcante87/shakespeare.txt\"\n",
    "Arquivo.unica_string(arquivo)\n",
    "palavra = \"for\""
   ]
  },
  {
   "cell_type": "code",
   "execution_count": 3,
   "metadata": {},
   "outputs": [
    {
     "name": "stdout",
     "output_type": "stream",
     "text": [
      "2\n",
      "['She', 'sells', 'seashells', 'on', 'the', 'seashore;', 'The', 'shells', 'that', 'she', 'sells', 'are', 'seashells', \"I'm\", 'sure.', 'So', 'if', 'she', 'sells', 'seashells', 'on', 'the', 'seashore,', \"I'm\", 'sure', 'that', 'the', 'shells', 'are', 'seashore', 'shells.']\n"
     ]
    }
   ],
   "source": [
    "arquivo=\"/home/cavalcante87/she.txt\"\n",
    "arquivo=open(arquivo, \"r\")\n",
    "linhas=arquivo.readlines()\n",
    "lista=[]\n",
    "count = 0\n",
    "\n",
    "palavra =\"she\"  \n",
    "\n",
    "for i in linhas:\n",
    "    i.strip('\\n')\n",
    "    for j in i.split():\n",
    "        lista.append(j)\n",
    "\n",
    "for i in range(0, len(lista)-1):\n",
    "    if palavra == lista[i]:\n",
    "        count += 1\n",
    "\n",
    "      \n",
    "        \n",
    "print(count)\n",
    "        \n",
    "print(lista)"
   ]
  },
  {
   "cell_type": "markdown",
   "metadata": {},
   "source": [
    "## Problema 4.\n",
    "Retorne as 10 palavras mais frequentes."
   ]
  },
  {
   "cell_type": "code",
   "execution_count": 18,
   "metadata": {},
   "outputs": [
    {
     "name": "stdout",
     "output_type": "stream",
     "text": [
      "2\n",
      "['She', 'sells', 'seashells', 'on', 'the', 'seashore;', 'The', 'shells', 'that', 'she', 'sells', 'are', 'seashells', \"I'm\", 'sure.', 'So', 'if', 'she', 'sells', 'seashells', 'on', 'the', 'seashore,', \"I'm\", 'sure', 'that', 'the', 'shells', 'are', 'seashore', 'shells.']\n"
     ]
    }
   ],
   "source": [
    "arquivo=\"/home/cavalcante87/she.txt\"\n",
    "arquivo=open(arquivo, \"r\")\n",
    "linhas=arquivo.readlines()\n",
    "lista=[]\n",
    "count=0\n",
    "frequencia = 0\n",
    "palavra =\"she\"  \n",
    "\n",
    "for i in linhas:\n",
    "    i.strip('\\n')\n",
    "    for j in i.split():\n",
    "        lista.append(j)\n",
    "\n",
    "\n",
    "for palavra in lista:        \n",
    "    for i in range(0, len(lista)-1):\n",
    "        if palavra == lista[i]:\n",
    "            count += 1\n",
    "    \n",
    "\n",
    "#while frequencia < quantidade+1:\n",
    "#    for i in range(0, len(lista)-1):\n",
    "#        if palavra == lista[i]:\n",
    "#            frequencia += 1\n",
    "\n",
    "      \n",
    "        \n",
    "print(frequencia)\n",
    "        \n",
    "print(lista)"
   ]
  },
  {
   "cell_type": "markdown",
   "metadata": {},
   "source": [
    "## Problema 5.\n",
    "Retorne a média e desvio padrão da quantidade de ocorrências."
   ]
  },
  {
   "cell_type": "markdown",
   "metadata": {},
   "source": [
    "## Problema 6.\n",
    "Cadastre StopWords (A classe deve possuir um atributo com uma lista de StopWords)."
   ]
  },
  {
   "cell_type": "markdown",
   "metadata": {},
   "source": [
    "## Problema 7. \n",
    "Retorne um novo arquivo eliminando todas as StopWords do texto."
   ]
  },
  {
   "cell_type": "markdown",
   "metadata": {},
   "source": [
    "## Problema 8.\n",
    "Inclua um método que retorne a distância entre duas palavras."
   ]
  },
  {
   "cell_type": "markdown",
   "metadata": {},
   "source": [
    "### Observações:\n",
    "\n",
    "#### StopWords : são palavras que são consideradas irrelevantes para o conjunto de resultados a ser exibido em uma busca realizada em uma search engine. Exemplos: as, e, os, de, para, com, sem, foi.\n",
    "\n",
    "#### Exemplo de texto que pode ser usado como entrada: https://ocw.mit.edu/ans7870/6/6.006/s08/lecturenotes/files/t8.shakespeare.txt\n",
    "\n",
    "#### Você pode criar um método próprio para medir a distância entre duas palavras, ou pode se basear em métodos existentes, como por exemplo, alguns citados aqui: https://itnext.io/string-similarity-the-basic-know-your-algorithms-guide-3de3d7346227\n"
   ]
  },
  {
   "cell_type": "code",
   "execution_count": null,
   "metadata": {},
   "outputs": [],
   "source": []
  }
 ],
 "metadata": {
  "kernelspec": {
   "display_name": "Python 3",
   "language": "python",
   "name": "python3"
  },
  "language_info": {
   "codemirror_mode": {
    "name": "ipython",
    "version": 3
   },
   "file_extension": ".py",
   "mimetype": "text/x-python",
   "name": "python",
   "nbconvert_exporter": "python",
   "pygments_lexer": "ipython3",
   "version": "3.7.4"
  }
 },
 "nbformat": 4,
 "nbformat_minor": 2
}
